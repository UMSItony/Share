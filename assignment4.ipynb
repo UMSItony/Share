{
 "cells": [
  {
   "cell_type": "markdown",
   "metadata": {},
   "source": [
    "Before you turn this problem in, make sure everything runs as expected. First, **restart the kernel** (in the menubar, select Kernel$\\rightarrow$Restart) and then **run all cells** (in the menubar, select Cell$\\rightarrow$Run All).\n",
    "\n",
    "Make sure you fill in any place that says `YOUR CODE HERE` or \"YOUR ANSWER HERE\", as well as your name and collaborators below:"
   ]
  },
  {
   "cell_type": "code",
   "execution_count": 1,
   "metadata": {},
   "outputs": [],
   "source": [
    "NAME = \"Tony Purkal\"\n",
    "COLLABORATORS = \"\""
   ]
  },
  {
   "cell_type": "markdown",
   "metadata": {},
   "source": [
    "---"
   ]
  },
  {
   "cell_type": "markdown",
   "metadata": {},
   "source": [
    "# Information Visualization I \n",
    "## School of Information, University of Michigan\n",
    "\n",
    "## Week 4: \n",
    "- Data Types\n",
    "- Design\n",
    "\n",
    "## Assignment Overview\n",
    "### This assignment's objectives include:\n",
    "\n",
    "- Review, reflect on, and apply the concepts of encoding different data types. Given a visualization, justify different encodings for certain datatypes.\n",
    "- Review, reflect on, and apply good design decisions in a visualization. Given a visualization critique design decisions according to principles like Tufte's data-ink ratio, graphical integrity, chart junk, Munzner's rules of thumb, etc.\n",
    "\n",
    "<img src=\"assets/data-ink-ratio.png\" alt=\"Drawing\" style=\"width: 500px;\"/>\n",
    "<p style=\"text-align: center;\"> Same information, less ink </p>\n",
    "\n",
    "- Recreate, propose new and alternative visualizations using [Altair](https://altair-viz.github.io/) \n",
    "\n",
    "### The total score of this assignment will be 100 points consisting of:\n",
    "- Case study reflection: The Mayweather-McGregor Fight, As Told Through Emojis (30 points)\n",
    "- Altair programming exercise (70 points)\n",
    "\n",
    "\n",
    "### Resources:\n",
    "- Article by [Five Thirty Eight](https://fivethirtyeight.com) available  [online](https://fivethirtyeight.com/features/the-mayweather-mcgregor-fight-as-told-through-emojis/) (Hickey, Koeze, Dottle, Wezerek 2017)  \n",
    "- Datasets from Five Thirty Eight, we have download a subset of these datasets to [./assets](assets) but the original can be found on [Five Thirty Eight Mayweather vs McGregor](https://github.com/fivethirtyeight/data/tree/master/mayweather-mcgregor)"
   ]
  },
  {
   "cell_type": "markdown",
   "metadata": {},
   "source": [
    "## Part 1. Data Types & Design (30 points)\n",
    "Read the article published in Five Thirty Eight [The Mayweather-McGregor Fight, As Told Through Emojis](https://fivethirtyeight.com/features/the-mayweather-mcgregor-fight-as-told-through-emojis/) and answer the following questions:\n"
   ]
  },
  {
   "cell_type": "markdown",
   "metadata": {},
   "source": [
    "### 1.1 List the different data types in the following visualizations and their encodings (10 points)\n",
    "For each chart, describe the variable name, type, and encoding (e.g., weight, quantitative, bar length)\n",
    "<img src=\"assets/chart_1.png\" alt=\"Drawing\" style=\"width: 250px;\"/>\n",
    "<img src=\"assets/chart_2.png\" alt=\"Drawing\" style=\"width: 250px;\"/>"
   ]
  },
  {
   "cell_type": "markdown",
   "metadata": {
    "deletable": false,
    "nbgrader": {
     "checksum": "39c3d4ea2dfb2e1df1128d67c77611bd",
     "grade": true,
     "grade_id": "cell-c5bf343a4cf7dab9",
     "locked": false,
     "points": 0,
     "schema_version": 1,
     "solution": true
    }
   },
   "source": [
    "First: percent, quantitative, bar length\n",
    "\n",
    "Second: \"team\", categorical, color / time series, numerical, position / 4-min rolling average tweets, numerical, position"
   ]
  },
  {
   "cell_type": "markdown",
   "metadata": {},
   "source": [
    "### 1.2 Sketch a visualization with an alternative encoding for one of the charts above. Compare your solution to the original. (10 points)\n",
    "You can hand sketch or create the solution digitally. Please upload an image or screenshot. Your data doesn't need to match perfectly. Reflect on the differences in terms of perception/cognition and design principles as appropriate."
   ]
  },
  {
   "cell_type": "markdown",
   "metadata": {
    "deletable": false,
    "nbgrader": {
     "checksum": "8f5ef95650bb69a533009d9c2ffdd3eb",
     "grade": true,
     "grade_id": "cell-1d7c7601bad19be0",
     "locked": false,
     "points": 0,
     "schema_version": 1,
     "solution": true
    }
   },
   "source": [
    "![answer1.2](assets/pie.png)\n",
    "\n",
    "For the original chart, it is much easier to made judgements about the magnitude by comparing the lengths of the bars than it is to attempt to compare perceived angles or area of the pie slices. This major difference between the two visualizations is accounted for by Stevens' law and leads to a major difference in the implied task  of being able to recognize a pattern (in this case, ranking by magnitude) by comparing perceived measures of magnitude. The obvious benefit of the pie chart is that it is clear that the emojis contained therein comprise parts of a whole. This can be somewhat misleading, however, since a sample of emojis is represented instead of the whole population of emojis employed in this online session. Further, it is clear in the original visualization which emoji belongs with which percentage data because it is located in the same vertical space. The pie chart encodes this with varying color, and the ability to tell the difference between some of the colors is difficult during the more complicated task of differntiating the data based on which emoji the data belongs to."
   ]
  },
  {
   "cell_type": "markdown",
   "metadata": {},
   "source": [
    "### 1.3 Use one of the design principles reviewed in class (Tufte's data-ink ratio, graphical integrity, chart junk, etc. ) to critique the following visualization (10 points)\n",
    "Describe pros and cons of the visualization relative to these principles. If the image violates the principle, reflect on why this is might be ok or not.\n",
    "\n",
    "<img src=\"assets/boxing_vis2.jpg\" alt=\"Drawing\" style=\"width: 500px;\"/>\n",
    "<p style=\"text-align: center;\"> http://vizzingdata.blogspot.com/2017/01/muhammad-ali-career-dataviz.html</p>"
   ]
  },
  {
   "cell_type": "markdown",
   "metadata": {
    "deletable": false,
    "nbgrader": {
     "checksum": "7b9873cd9c5dea9442a6c0d899fac2d1",
     "grade": true,
     "grade_id": "cell-459664b33e6e8d59",
     "locked": false,
     "points": 0,
     "schema_version": 1,
     "solution": true
    }
   },
   "source": [
    "The representation of the numbers in the boxing gloves (green=56 and red=5) are not proportional to the quantities represented, and in fact, took quite a bit of cognitive effort to even ascertain what they were meant to represent. The years along the perimeter of the circle differ in length not based on years, but based instead on the number of matches within that year, which is another example of problems with representation of numbers without proper proportionality. In the particular case of the years and the issues with proportionality, this does not substantially affect the graphical integrity as much as the other proportionality concern. While a legend is provided for the acronyms used in the bar chart, the bar chart could have been enlargened and these data labeled directly in lieu of \"eye-catching graphics\" in the data visualization space. This legend could have been useful, instead, to explain acronyms positioned in the green and red wedges to represent actual incidents of KO, TKO, etc. This would have enriched the expressiveness of the visualization by labeling events in the data directly, and placing the data within its proper context. Perhaps this action of labeling the events in the data directly in the wedges could have resulted in a better representation without having to introduce addition design variation with a bar chart within a time-series chart. All of these ideas are ways in which this visualization is inconsistent with the graphical integrity principles put forth by Tufte."
   ]
  },
  {
   "cell_type": "markdown",
   "metadata": {},
   "source": [
    "##### Part 2. Altair programming exercise (70 points)\n",
    "We have provided you with some code and parts of the article [The Mayweather-McGregor Fight, As Told Through Emojis](https://fivethirtyeight.com/features/the-mayweather-mcgregor-fight-as-told-through-emojis/). This article is based on the dataset:\n",
    "\n",
    "1. [tweets](data/tweets.csv) Created by FiveThirtyEight with the Twitter Streaming API containing a sample of all the tweets that matched the search terms: #MayMac, #MayweatherMcGregor, #MayweatherVMcGregor, #MayweatherVsMcGregor, #McGregor and #Mayweather collected between 12:05 a.m. and 1:15 a.m. EDT, 12,118 that had emojis. Available [on github](https://github.com/fivethirtyeight/data/tree/master/mayweather-mcgregor)\n",
    "\n",
    "To earn points for this assignment, you must:\n",
    "\n",
    "- Recreate the visualizations in the article (replace the images in the article with a code cell that creates a visualization). There are four visualizations to make. For the 2nd, 3rd, and 4th, we provide some example code to get the data into the right structure. The points for each visualization are distributed: (30 points: 9 (1st problem) + 7 (each of 2nd, 3rd & 4th)).\n",
    "\n",
    "    - _Partial credit can be granted for each visualization (up to 5 points) if you provide the grammar of graphics description of the visualization without a fully implemented Altair solution_\n",
    "\n",
    "- Propose one alternative visualization for one of the 4 article visualizations. Add a short paragraph describing why your visualization is better in terms of Design / Variable types encoding. (20 points/ 15 points plot + 5 justification)\n",
    "\n",
    "\n",
    "- Propose a new visualization to complement a part of the article. Add a short paragraph justifying your decisions in terms of Design / Variable types encoding.  (20 points/ 15 points plot + 5 justification)\n",
    "\n",
    "### Before you begin\n",
    "*IMPORTANT BROWSER ISSUE*: For some non-ES6 Browsers there are problems with date/time conversions (see [this](https://altair-viz.github.io/user_guide/times_and_dates.html)). If things aren't working try something like Chrome for this assignment.\n",
    "\n",
    "*IMPORTANT DATA ISSUE*: There are some differences in the data that 538 used and what we have. This will cause some issues to how things are normalized. Things should look very similar, but you may find, for example, that the scale of tweets when you normalize is different than the original figure. This is fine.\n",
    "\n",
    "*IMPORTANT STYLING/ANNOTATION* NOTE: Part of this assignment is to get styling and annotation to be as close to 538 as possible. Altair and Vega-Lite aren't super helpful for annotation purposes. You will find that you need to do things like layering text and the arrows (hint: see [here](https://github.com/altair-viz/altair/issues/1721)). What I usually do in practice (when I need the visualization to look good and have annotation) is get things as close to how I want them to look, export the image as an SVG and then load it into [Figma](https://www.figma.com/), [InkScape](https://inkscape.org/), or [Adobe Illustrator](https://www.adobe.com/products/illustrator.html). You can see \"reasonably close approximations\" in the examples we provide. Those have been generated using nothing but Altair."
   ]
  },
  {
   "cell_type": "code",
   "execution_count": 2,
   "metadata": {},
   "outputs": [],
   "source": [
    "# start with the setup\n",
    "import pandas as pd\n",
    "import altair as alt\n",
    "import numpy as np"
   ]
  },
  {
   "cell_type": "code",
   "execution_count": 3,
   "metadata": {},
   "outputs": [
    {
     "data": {
      "text/plain": [
       "RendererRegistry.enable('default')"
      ]
     },
     "execution_count": 3,
     "metadata": {},
     "output_type": "execute_result"
    }
   ],
   "source": [
    "# enable correct rendering\n",
    "alt.renderers.enable('default')"
   ]
  },
  {
   "cell_type": "code",
   "execution_count": 4,
   "metadata": {},
   "outputs": [
    {
     "data": {
      "text/plain": [
       "DataTransformerRegistry.enable('json')"
      ]
     },
     "execution_count": 4,
     "metadata": {},
     "output_type": "execute_result"
    }
   ],
   "source": [
    "# uses intermediate json files to speed things up\n",
    "alt.data_transformers.enable('json')"
   ]
  },
  {
   "cell_type": "code",
   "execution_count": 5,
   "metadata": {},
   "outputs": [],
   "source": [
    "# we're going to do some setup here in anticipation of needing the data in \n",
    "# a specific format. We moved it all up here so everything is in one place.\n",
    "\n",
    "# load the tweets\n",
    "tweets = pd.read_csv('assets/tweets.csv')\n",
    "\n",
    "# we're going to process the data in a couple of ways\n",
    "# first, we want to know how many emojis are in each tweet so we'll create a new column\n",
    "# that counts them\n",
    "tweets['emojis'] = tweets['text'].str.findall(r'[^\\w\\s.,\"@\\'?/#!$%\\^&\\*;:{}=\\-_`~()\\U0001F1E6-\\U0001F1FF]').str.len()\n",
    "\n",
    "# next, there are a few specific emojis that we care about, we're going to create\n",
    "# a column for each one and indicate how many times it showed up in the tweet\n",
    "boxer_emojis = ['☘️','🇮🇪','🍀','💸','🤑','💰','💵','😴','😂','🤣','🥊','👊','👏','🇮🇪','💪','🔥','😭','💰']\n",
    "for emoji in boxer_emojis:\n",
    "    # here's a different way to get the counts\n",
    "    tweets[emoji] = tweets.text.str.count(emoji)\n",
    "    \n",
    "# For the irish pride vs the money team we want the numer \n",
    "# of either ☘️, 🇮🇪 or 🍀 and 💸, 🤑, 💰 or 💵 for each\n",
    "tweets['irish_pride'] = tweets['☘️'] + tweets['🇮🇪'] + tweets['🍀']\n",
    "tweets['money_team'] = tweets['💸'] + tweets['🤑'] + tweets['💰'] +  tweets['💵']"
   ]
  },
  {
   "cell_type": "code",
   "execution_count": 6,
   "metadata": {},
   "outputs": [],
   "source": [
    "# uncomment to see what's inside\n",
    "#tweets.head()"
   ]
  },
  {
   "cell_type": "markdown",
   "metadata": {},
   "source": [
    "# The Mayweather-McGregor Fight, As Told Through Emojis"
   ]
  },
  {
   "cell_type": "markdown",
   "metadata": {},
   "source": [
    " ### <font color=grey>We laughed, cried and cried some more. </font>"
   ]
  },
  {
   "cell_type": "markdown",
   "metadata": {},
   "source": [
    "_Original article available at [FiveThirtyEight](https://fivethirtyeight.com/features/the-mayweather-mcgregor-fight-as-told-through-emojis/)_\n",
    "\n",
    "By [Dhrumil Mehta](https://fivethirtyeight.com/contributors/dhrumil-mehta/), [Oliver Roeder](https://fivethirtyeight.com/contributors/oliver-roeder/) and [Rachael Dottle](https://fivethirtyeight.com/contributors/rachael-dottle/)\n",
    "\n",
    "Filed under [Mayweather vs. McGregor](https://fivethirtyeight.com/tag/mayweather-vs-mcgregor/)\n",
    "\n",
    "Get the data on [GitHub](https://github.com/fivethirtyeight/data/tree/master/mayweather-mcgregor)"
   ]
  },
  {
   "cell_type": "markdown",
   "metadata": {},
   "source": [
    "For the nearly 15,000 people in Las Vegas’s T-Mobile Arena on Saturday night, and the millions more huddled around TVs across the world, the Floyd Mayweather–Conor McGregor fight was a roller coaster of emotions. They were anxious as pay-per-view [technical problems](http://www.espn.com/boxing/story/_/id/20469815/floyd-mayweather-conor-mcgregor-delay-ppv-problems) pushed back the fight’s start. They were full of anticipation when the combatants finally emerged after months of hype. They were surprised when McGregor held his own, or seemed to hold his own, for a couple of rounds. They were thrilled when Mayweather finally started fighting. And they were exhausted by the end.\n",
    "\n",
    "How do we know all this? Emojis."
   ]
  },
  {
   "cell_type": "markdown",
   "metadata": {},
   "source": [
    "We were monitoring Twitter on fight night, pulling tweets that contained fight-related hashtags — those that included #MayweatherVsMcgregor, for example. In the end, we collected about 200,000 fight-related tweets, of which more than 12,000 contained emojis. (To be clear, that’s a small enough sample that this emojinalysis might not make it through peer review.)<sup>1<sup>"
   ]
  },
  {
   "cell_type": "markdown",
   "metadata": {},
   "source": [
    "> <font color=grey> 1. We used the [Twitter Streaming API](https://dev.twitter.com/streaming/overview) which provides a sample of all the tweets that matched our search terms: #MayMac, #MayweatherMcGregor, #MayweatherVMcGregor, #MayweatherVsMcGregor, #McGregor and #Mayweather. Of the 197,989 tweets we collected between 12:05 a.m. and 1:15 a.m. EDT, 12,118 had emojis.</font>"
   ]
  },
  {
   "cell_type": "markdown",
   "metadata": {},
   "source": [
    "<img src=\"assets/chart_1.png\" alt=\"Drawing\" style=\"width: 250px;\"/>\n",
    "\n",
    "** Homework note, construct your solution to this chart in the cell below. Click [here](assets/altair_chart1.png) to see a sample output from Altair."
   ]
  },
  {
   "cell_type": "code",
   "execution_count": 7,
   "metadata": {},
   "outputs": [],
   "source": [
    "# We'll help you out with a table that has the percentages for each emoji\n",
    "\n",
    "# dictionary that will map emoji to percentage\n",
    "percentages = {}  \n",
    "\n",
    "# find total emojies\n",
    "total = tweets['emojis'].sum() \n",
    "\n",
    "# for each emoji, figure out how prevalent it is\n",
    "emojis = ['😂','🤣','🥊','👊','👏','🇮🇪','💪','🔥','😭','💰']\n",
    "for emoji in emojis:  \n",
    "    percentages[emoji] = [round(tweets[emoji].sum() / total * 100,1)]\n",
    "    \n",
    "# create a data frame to hold this from the dictionary\n",
    "percentages_df = pd.DataFrame.from_dict(percentages).T\n",
    "\n",
    "# sort the dictionary \n",
    "percentages_df = percentages_df.sort_values(by=[0], ascending = False).reset_index()\n",
    "\n",
    "# rename the columns\n",
    "percentages_df = percentages_df.rename(columns={'index':'EMOJI', 0: 'PERCENT'})\n",
    "\n",
    "# create a rank column based on position in the ordered list\n",
    "percentages_df['rank'] = pd.Index(list(range(1,11)))\n",
    "\n",
    "# modify the text\n",
    "percentages_df['PERCENT_TEXT'] = percentages_df['PERCENT'].astype('str') + ' %   '\n",
    "\n",
    "#make axis labels\n",
    "percentages_df['axis_labels'] = percentages_df['EMOJI'] + '    ' + percentages_df['PERCENT_TEXT']"
   ]
  },
  {
   "cell_type": "code",
   "execution_count": 8,
   "metadata": {},
   "outputs": [
    {
     "data": {
      "text/html": [
       "<div>\n",
       "<style scoped>\n",
       "    .dataframe tbody tr th:only-of-type {\n",
       "        vertical-align: middle;\n",
       "    }\n",
       "\n",
       "    .dataframe tbody tr th {\n",
       "        vertical-align: top;\n",
       "    }\n",
       "\n",
       "    .dataframe thead th {\n",
       "        text-align: right;\n",
       "    }\n",
       "</style>\n",
       "<table border=\"1\" class=\"dataframe\">\n",
       "  <thead>\n",
       "    <tr style=\"text-align: right;\">\n",
       "      <th></th>\n",
       "      <th>EMOJI</th>\n",
       "      <th>PERCENT</th>\n",
       "      <th>rank</th>\n",
       "      <th>PERCENT_TEXT</th>\n",
       "      <th>axis_labels</th>\n",
       "    </tr>\n",
       "  </thead>\n",
       "  <tbody>\n",
       "    <tr>\n",
       "      <th>0</th>\n",
       "      <td>😂</td>\n",
       "      <td>23.1</td>\n",
       "      <td>1</td>\n",
       "      <td>23.1 %</td>\n",
       "      <td>😂    23.1 %</td>\n",
       "    </tr>\n",
       "    <tr>\n",
       "      <th>1</th>\n",
       "      <td>🥊</td>\n",
       "      <td>5.7</td>\n",
       "      <td>2</td>\n",
       "      <td>5.7 %</td>\n",
       "      <td>🥊    5.7 %</td>\n",
       "    </tr>\n",
       "    <tr>\n",
       "      <th>2</th>\n",
       "      <td>👊</td>\n",
       "      <td>3.5</td>\n",
       "      <td>3</td>\n",
       "      <td>3.5 %</td>\n",
       "      <td>👊    3.5 %</td>\n",
       "    </tr>\n",
       "    <tr>\n",
       "      <th>3</th>\n",
       "      <td>👏</td>\n",
       "      <td>3.0</td>\n",
       "      <td>4</td>\n",
       "      <td>3.0 %</td>\n",
       "      <td>👏    3.0 %</td>\n",
       "    </tr>\n",
       "    <tr>\n",
       "      <th>4</th>\n",
       "      <td>💪</td>\n",
       "      <td>2.5</td>\n",
       "      <td>5</td>\n",
       "      <td>2.5 %</td>\n",
       "      <td>💪    2.5 %</td>\n",
       "    </tr>\n",
       "    <tr>\n",
       "      <th>5</th>\n",
       "      <td>🇮🇪</td>\n",
       "      <td>2.4</td>\n",
       "      <td>6</td>\n",
       "      <td>2.4 %</td>\n",
       "      <td>🇮🇪    2.4 %</td>\n",
       "    </tr>\n",
       "    <tr>\n",
       "      <th>6</th>\n",
       "      <td>🤣</td>\n",
       "      <td>2.3</td>\n",
       "      <td>7</td>\n",
       "      <td>2.3 %</td>\n",
       "      <td>🤣    2.3 %</td>\n",
       "    </tr>\n",
       "    <tr>\n",
       "      <th>7</th>\n",
       "      <td>🔥</td>\n",
       "      <td>2.3</td>\n",
       "      <td>8</td>\n",
       "      <td>2.3 %</td>\n",
       "      <td>🔥    2.3 %</td>\n",
       "    </tr>\n",
       "    <tr>\n",
       "      <th>8</th>\n",
       "      <td>😭</td>\n",
       "      <td>2.0</td>\n",
       "      <td>9</td>\n",
       "      <td>2.0 %</td>\n",
       "      <td>😭    2.0 %</td>\n",
       "    </tr>\n",
       "    <tr>\n",
       "      <th>9</th>\n",
       "      <td>💰</td>\n",
       "      <td>1.8</td>\n",
       "      <td>10</td>\n",
       "      <td>1.8 %</td>\n",
       "      <td>💰    1.8 %</td>\n",
       "    </tr>\n",
       "  </tbody>\n",
       "</table>\n",
       "</div>"
      ],
      "text/plain": [
       "  EMOJI  PERCENT  rank PERCENT_TEXT     axis_labels\n",
       "0     😂     23.1     1    23.1 %     😂    23.1 %   \n",
       "1     🥊      5.7     2     5.7 %      🥊    5.7 %   \n",
       "2     👊      3.5     3     3.5 %      👊    3.5 %   \n",
       "3     👏      3.0     4     3.0 %      👏    3.0 %   \n",
       "4     💪      2.5     5     2.5 %      💪    2.5 %   \n",
       "5    🇮🇪      2.4     6     2.4 %     🇮🇪    2.4 %   \n",
       "6     🤣      2.3     7     2.3 %      🤣    2.3 %   \n",
       "7     🔥      2.3     8     2.3 %      🔥    2.3 %   \n",
       "8     😭      2.0     9     2.0 %      😭    2.0 %   \n",
       "9     💰      1.8    10     1.8 %      💰    1.8 %   "
      ]
     },
     "execution_count": 8,
     "metadata": {},
     "output_type": "execute_result"
    }
   ],
   "source": [
    "# uncomment to see what's inside\n",
    "\n",
    "percentages_df"
   ]
  },
  {
   "cell_type": "markdown",
   "metadata": {},
   "source": [
    "** Homework note, construct your solution to this chart in the cell below. Click [here](assets/emoji_distrib_altair.png) to see a sample output from Altair."
   ]
  },
  {
   "cell_type": "code",
   "execution_count": 9,
   "metadata": {
    "deletable": false,
    "nbgrader": {
     "checksum": "daa3fefe200b07e34f61cce1f084dc4f",
     "grade": true,
     "grade_id": "cell-e53580df5d25afef",
     "locked": false,
     "points": 0,
     "schema_version": 1,
     "solution": true
    }
   },
   "outputs": [
    {
     "data": {
      "text/html": [
       "\n",
       "<div id=\"altair-viz-ce750c1e3b30465292c02a9ad746a1fe\"></div>\n",
       "<script type=\"text/javascript\">\n",
       "  (function(spec, embedOpt){\n",
       "    const outputDiv = document.getElementById(\"altair-viz-ce750c1e3b30465292c02a9ad746a1fe\");\n",
       "    const paths = {\n",
       "      \"vega\": \"https://cdn.jsdelivr.net/npm//vega@5?noext\",\n",
       "      \"vega-lib\": \"https://cdn.jsdelivr.net/npm//vega-lib?noext\",\n",
       "      \"vega-lite\": \"https://cdn.jsdelivr.net/npm//vega-lite@4.0.2?noext\",\n",
       "      \"vega-embed\": \"https://cdn.jsdelivr.net/npm//vega-embed@6?noext\",\n",
       "    };\n",
       "\n",
       "    function loadScript(lib) {\n",
       "      return new Promise(function(resolve, reject) {\n",
       "        var s = document.createElement('script');\n",
       "        s.src = paths[lib];\n",
       "        s.async = true;\n",
       "        s.onload = () => resolve(paths[lib]);\n",
       "        s.onerror = () => reject(`Error loading script: ${paths[lib]}`);\n",
       "        document.getElementsByTagName(\"head\")[0].appendChild(s);\n",
       "      });\n",
       "    }\n",
       "\n",
       "    function showError(err) {\n",
       "      outputDiv.innerHTML = `<div class=\"error\" style=\"color:red;\">${err}</div>`;\n",
       "      throw err;\n",
       "    }\n",
       "\n",
       "    function displayChart(vegaEmbed) {\n",
       "      vegaEmbed(outputDiv, spec, embedOpt)\n",
       "        .catch(err => showError(`Javascript Error: ${err.message}<br>This usually means there's a typo in your chart specification. See the javascript console for the full traceback.`));\n",
       "    }\n",
       "\n",
       "    if(typeof define === \"function\" && define.amd) {\n",
       "      requirejs.config({paths});\n",
       "      require([\"vega-embed\"], displayChart, err => showError(`Error loading script: ${err.message}`));\n",
       "    } else if (typeof vegaEmbed === \"function\") {\n",
       "      displayChart(vegaEmbed);\n",
       "    } else {\n",
       "      loadScript(\"vega\")\n",
       "        .then(() => loadScript(\"vega-lite\"))\n",
       "        .then(() => loadScript(\"vega-embed\"))\n",
       "        .catch(showError)\n",
       "        .then(() => displayChart(vegaEmbed));\n",
       "    }\n",
       "  })({\"config\": {\"view\": {\"continuousWidth\": 400, \"continuousHeight\": 300, \"strokeWidth\": 0}, \"axis\": {\"domainOpacity\": 0, \"grid\": false}}, \"data\": {\"url\": \"altair-data-890710cba0cb067848c1314f4ce3a0e6.json\", \"format\": {\"type\": \"json\"}}, \"mark\": {\"type\": \"bar\", \"color\": \"gold\", \"size\": 25}, \"encoding\": {\"x\": {\"type\": \"quantitative\", \"axis\": null, \"field\": \"PERCENT\"}, \"y\": {\"type\": \"nominal\", \"axis\": {\"labelFontSize\": 15, \"ticks\": false, \"title\": \"\"}, \"field\": \"axis_labels\", \"sort\": [\"\\ud83d\\ude02    23.1 %   \", \"\\ud83e\\udd4a    5.7 %   \", \"\\ud83d\\udc4a    3.5 %   \", \"\\ud83d\\udc4f    3.0 %   \", \"\\ud83d\\udcaa    2.5 %   \", \"\\ud83c\\uddee\\ud83c\\uddea    2.4 %   \", \"\\ud83e\\udd23    2.3 %   \", \"\\ud83d\\udd25    2.3 %   \", \"\\ud83d\\ude2d    2.0 %   \", \"\\ud83d\\udcb0    1.8 %   \"]}}, \"height\": 300, \"$schema\": \"https://vega.github.io/schema/vega-lite/v4.0.2.json\"}, {\"mode\": \"vega-lite\"});\n",
       "</script>"
      ],
      "text/plain": [
       "alt.Chart(...)"
      ]
     },
     "execution_count": 9,
     "metadata": {},
     "output_type": "execute_result"
    }
   ],
   "source": [
    "# use percentages_df to recreate the visualization above\n",
    "\n",
    "sort_list = list(percentages_df['axis_labels'])\n",
    "\n",
    "emo_bars = alt.Chart(percentages_df).mark_bar(size=25, color='gold').encode(\n",
    "    x=alt.X(\n",
    "        'PERCENT',\n",
    "    axis=None),y=alt.Y(\n",
    "        'axis_labels',\n",
    "        axis=alt.Axis(title='', ticks=False, labelFontSize=15),\n",
    "        sort=sort_list)\n",
    ").configure_view(strokeWidth=0).properties(height=300).configure_axis(grid=False, domainOpacity=0)\n",
    "\n",
    "emo_bars"
   ]
  },
  {
   "cell_type": "markdown",
   "metadata": {},
   "source": [
    "There were the likely frontrunners for most-used emoji: the 🥊, the 👊, the 💪. But the emoji of the fight was far and away the 😂. (“Face with tears of joy.”)<sup>2<sup>"
   ]
  },
  {
   "cell_type": "markdown",
   "metadata": {},
   "source": [
    "> <font color=grey> 1.2. That’s certainly appropriate for this spectacle, but it should be noted that 😂 is also the [most tweeted](http://emojitracker.com/) emoji generally.</font>"
   ]
  },
  {
   "cell_type": "markdown",
   "metadata": {},
   "source": [
    "Here’s how the night unfolded, emoji-wise. (All of the charts below show them on a four-minute rolling average.)\n",
    "<img src=\"assets/tweet1.png\" alt=\"Drawing\" style=\"width: 500px;\"/>"
   ]
  },
  {
   "cell_type": "markdown",
   "metadata": {},
   "source": [
    "For one thing, the fight was a sharply partisan affair. The majority of people in the arena appeared to be McGregor fans — he hails from Dublin and an Irish flag, worn cape-style, almost seemed like the evening’s dress code. But other fans were members of TMT — The Money Team — and loyal to “Money” Mayweather. Twitter’s loyalties came and went as the match progressed, with enthusiasm from either camp seemingly matching each fighter’s success."
   ]
  },
  {
   "cell_type": "markdown",
   "metadata": {},
   "source": [
    "<img src=\"assets/chart_2.png\" alt=\"Drawing\" style=\"width: 500px;\"/>"
   ]
  },
  {
   "cell_type": "code",
   "execution_count": 10,
   "metadata": {},
   "outputs": [],
   "source": [
    "# Again, we're going to help you set up the data\n",
    "\n",
    "# We're going to want to work with time objects so we need to make a datetime\n",
    "# column (basically transforming the text in \"created at\"). It duplicates\n",
    "# the data but it will make things easier\n",
    "tweets['datetime'] = pd.to_datetime(tweets['created_at'])\n",
    "tweets = tweets.set_index('datetime')\n",
    "\n",
    "# next we're going to creat a rolling average\n",
    "# first for the money team\n",
    "mdf = (tweets['money_team'].rolling('4Min').mean().groupby(pd.Grouper(freq='15S')).mean() * 15).reset_index()\n",
    "mdf['team'] = '💸🤑💰💵'\n",
    "mdf = mdf.rename(columns={'money_team':'tweet_count'})\n",
    "\n",
    "# next for the irish team\n",
    "idf = (tweets['irish_pride'].rolling('4Min').mean().groupby(pd.Grouper(freq='15S')).mean() * 15).reset_index()\n",
    "idf['team'] = '☘️🍀🇮🇪'\n",
    "idf = idf.rename(columns={'irish_pride':'tweet_count'})\n",
    "\n",
    "# now we'll combine our datasets\n",
    "ndf = pd.concat([mdf,idf])"
   ]
  },
  {
   "cell_type": "code",
   "execution_count": 11,
   "metadata": {},
   "outputs": [
    {
     "data": {
      "text/html": [
       "<div>\n",
       "<style scoped>\n",
       "    .dataframe tbody tr th:only-of-type {\n",
       "        vertical-align: middle;\n",
       "    }\n",
       "\n",
       "    .dataframe tbody tr th {\n",
       "        vertical-align: top;\n",
       "    }\n",
       "\n",
       "    .dataframe thead th {\n",
       "        text-align: right;\n",
       "    }\n",
       "</style>\n",
       "<table border=\"1\" class=\"dataframe\">\n",
       "  <thead>\n",
       "    <tr style=\"text-align: right;\">\n",
       "      <th></th>\n",
       "      <th>datetime</th>\n",
       "      <th>tweet_count</th>\n",
       "      <th>team</th>\n",
       "    </tr>\n",
       "  </thead>\n",
       "  <tbody>\n",
       "    <tr>\n",
       "      <th>226</th>\n",
       "      <td>2017-08-27 01:02:00</td>\n",
       "      <td>0.735558</td>\n",
       "      <td>☘️🍀🇮🇪</td>\n",
       "    </tr>\n",
       "    <tr>\n",
       "      <th>83</th>\n",
       "      <td>2017-08-27 00:26:15</td>\n",
       "      <td>1.103877</td>\n",
       "      <td>☘️🍀🇮🇪</td>\n",
       "    </tr>\n",
       "    <tr>\n",
       "      <th>185</th>\n",
       "      <td>2017-08-27 00:51:45</td>\n",
       "      <td>0.900756</td>\n",
       "      <td>💸🤑💰💵</td>\n",
       "    </tr>\n",
       "    <tr>\n",
       "      <th>236</th>\n",
       "      <td>2017-08-27 01:04:30</td>\n",
       "      <td>1.411858</td>\n",
       "      <td>💸🤑💰💵</td>\n",
       "    </tr>\n",
       "    <tr>\n",
       "      <th>100</th>\n",
       "      <td>2017-08-27 00:30:30</td>\n",
       "      <td>0.147833</td>\n",
       "      <td>💸🤑💰💵</td>\n",
       "    </tr>\n",
       "  </tbody>\n",
       "</table>\n",
       "</div>"
      ],
      "text/plain": [
       "               datetime  tweet_count   team\n",
       "226 2017-08-27 01:02:00     0.735558  ☘️🍀🇮🇪\n",
       "83  2017-08-27 00:26:15     1.103877  ☘️🍀🇮🇪\n",
       "185 2017-08-27 00:51:45     0.900756   💸🤑💰💵\n",
       "236 2017-08-27 01:04:30     1.411858   💸🤑💰💵\n",
       "100 2017-08-27 00:30:30     0.147833   💸🤑💰💵"
      ]
     },
     "execution_count": 11,
     "metadata": {},
     "output_type": "execute_result"
    }
   ],
   "source": [
    "# uncomment to see what's inside\n",
    "ndf.sample(5)"
   ]
  },
  {
   "cell_type": "code",
   "execution_count": 12,
   "metadata": {},
   "outputs": [],
   "source": [
    "# we're also going to create an annotations data frame to help you\n",
    "annotations = [['2017-08-27 00:15:00',3, 'Fight begins'],\n",
    "               ['2017-08-27 00:20:00',3.5, 'McGregor does OK in the early rounds'],\n",
    "               ['2017-08-27 00:40:00',2.8, 'Mayweather takes over and wins by TKO']]\n",
    "a_df = pd.DataFrame(annotations, columns=['date','count','note'])\n",
    "a_df['date'] = pd.to_datetime(a_df['date'])\n",
    "a_df['mark'] = ['|','|','']"
   ]
  },
  {
   "cell_type": "code",
   "execution_count": 13,
   "metadata": {},
   "outputs": [
    {
     "data": {
      "text/html": [
       "<div>\n",
       "<style scoped>\n",
       "    .dataframe tbody tr th:only-of-type {\n",
       "        vertical-align: middle;\n",
       "    }\n",
       "\n",
       "    .dataframe tbody tr th {\n",
       "        vertical-align: top;\n",
       "    }\n",
       "\n",
       "    .dataframe thead th {\n",
       "        text-align: right;\n",
       "    }\n",
       "</style>\n",
       "<table border=\"1\" class=\"dataframe\">\n",
       "  <thead>\n",
       "    <tr style=\"text-align: right;\">\n",
       "      <th></th>\n",
       "      <th>date</th>\n",
       "      <th>count</th>\n",
       "      <th>note</th>\n",
       "      <th>mark</th>\n",
       "    </tr>\n",
       "  </thead>\n",
       "  <tbody>\n",
       "    <tr>\n",
       "      <th>0</th>\n",
       "      <td>2017-08-27 00:15:00</td>\n",
       "      <td>3.0</td>\n",
       "      <td>Fight begins</td>\n",
       "      <td>|</td>\n",
       "    </tr>\n",
       "    <tr>\n",
       "      <th>1</th>\n",
       "      <td>2017-08-27 00:20:00</td>\n",
       "      <td>3.5</td>\n",
       "      <td>McGregor does OK in the early rounds</td>\n",
       "      <td>|</td>\n",
       "    </tr>\n",
       "    <tr>\n",
       "      <th>2</th>\n",
       "      <td>2017-08-27 00:40:00</td>\n",
       "      <td>2.8</td>\n",
       "      <td>Mayweather takes over and wins by TKO</td>\n",
       "      <td></td>\n",
       "    </tr>\n",
       "  </tbody>\n",
       "</table>\n",
       "</div>"
      ],
      "text/plain": [
       "                 date  count                                   note mark\n",
       "0 2017-08-27 00:15:00    3.0                           Fight begins    |\n",
       "1 2017-08-27 00:20:00    3.5   McGregor does OK in the early rounds    |\n",
       "2 2017-08-27 00:40:00    2.8  Mayweather takes over and wins by TKO     "
      ]
     },
     "execution_count": 13,
     "metadata": {},
     "output_type": "execute_result"
    }
   ],
   "source": [
    "# uncomment to see what's inside\n",
    "a_df"
   ]
  },
  {
   "cell_type": "markdown",
   "metadata": {},
   "source": [
    "** Homework note, construct your solution to this chart in the cell below. Click [here](assets/altair_chart2.png) to see a sample output from Altair."
   ]
  },
  {
   "cell_type": "code",
   "execution_count": 14,
   "metadata": {
    "deletable": false,
    "nbgrader": {
     "checksum": "b08000a8a7a758a2d59677fc388f1fb0",
     "grade": true,
     "grade_id": "cell-94ed8837ccad14c0",
     "locked": false,
     "points": 0,
     "schema_version": 1,
     "solution": true
    }
   },
   "outputs": [
    {
     "data": {
      "text/html": [
       "\n",
       "<div id=\"altair-viz-6496a4c793c04497a5c101dabde806ea\"></div>\n",
       "<script type=\"text/javascript\">\n",
       "  (function(spec, embedOpt){\n",
       "    const outputDiv = document.getElementById(\"altair-viz-6496a4c793c04497a5c101dabde806ea\");\n",
       "    const paths = {\n",
       "      \"vega\": \"https://cdn.jsdelivr.net/npm//vega@5?noext\",\n",
       "      \"vega-lib\": \"https://cdn.jsdelivr.net/npm//vega-lib?noext\",\n",
       "      \"vega-lite\": \"https://cdn.jsdelivr.net/npm//vega-lite@4.0.2?noext\",\n",
       "      \"vega-embed\": \"https://cdn.jsdelivr.net/npm//vega-embed@6?noext\",\n",
       "    };\n",
       "\n",
       "    function loadScript(lib) {\n",
       "      return new Promise(function(resolve, reject) {\n",
       "        var s = document.createElement('script');\n",
       "        s.src = paths[lib];\n",
       "        s.async = true;\n",
       "        s.onload = () => resolve(paths[lib]);\n",
       "        s.onerror = () => reject(`Error loading script: ${paths[lib]}`);\n",
       "        document.getElementsByTagName(\"head\")[0].appendChild(s);\n",
       "      });\n",
       "    }\n",
       "\n",
       "    function showError(err) {\n",
       "      outputDiv.innerHTML = `<div class=\"error\" style=\"color:red;\">${err}</div>`;\n",
       "      throw err;\n",
       "    }\n",
       "\n",
       "    function displayChart(vegaEmbed) {\n",
       "      vegaEmbed(outputDiv, spec, embedOpt)\n",
       "        .catch(err => showError(`Javascript Error: ${err.message}<br>This usually means there's a typo in your chart specification. See the javascript console for the full traceback.`));\n",
       "    }\n",
       "\n",
       "    if(typeof define === \"function\" && define.amd) {\n",
       "      requirejs.config({paths});\n",
       "      require([\"vega-embed\"], displayChart, err => showError(`Error loading script: ${err.message}`));\n",
       "    } else if (typeof vegaEmbed === \"function\") {\n",
       "      displayChart(vegaEmbed);\n",
       "    } else {\n",
       "      loadScript(\"vega\")\n",
       "        .then(() => loadScript(\"vega-lite\"))\n",
       "        .then(() => loadScript(\"vega-embed\"))\n",
       "        .catch(showError)\n",
       "        .then(() => displayChart(vegaEmbed));\n",
       "    }\n",
       "  })({\"config\": {\"view\": {\"continuousWidth\": 400, \"continuousHeight\": 300}, \"background\": \"#f0f0f0\", \"title\": {\"anchor\": \"start\", \"fontSize\": 20}}, \"layer\": [{\"data\": {\"url\": \"altair-data-b0d50f5f324df11503dce129c8074f03.json\", \"format\": {\"type\": \"json\"}}, \"mark\": {\"type\": \"text\", \"align\": \"left\", \"dy\": -30, \"fontSize\": 10}, \"encoding\": {\"text\": {\"type\": \"nominal\", \"field\": \"note\"}, \"x\": {\"type\": \"temporal\", \"field\": \"date\"}, \"y\": {\"type\": \"quantitative\", \"field\": \"count\"}}}, {\"data\": {\"url\": \"altair-data-157c5463f4575bdc93cbacd714928dff.json\", \"format\": {\"type\": \"json\"}}, \"mark\": {\"type\": \"line\", \"clip\": true}, \"encoding\": {\"color\": {\"type\": \"nominal\", \"field\": \"team\", \"legend\": {\"labelFontSize\": 20, \"orient\": \"top\", \"title\": \"\"}, \"scale\": {\"domain\": [\"\\u2618\\ufe0f\\ud83c\\udf40\\ud83c\\uddee\\ud83c\\uddea\", \"\\ud83d\\udcb8\\ud83e\\udd11\\ud83d\\udcb0\\ud83d\\udcb5\"], \"range\": [\"green\", \"gold\"]}}, \"x\": {\"type\": \"temporal\", \"axis\": {\"labelColor\": \"gray\", \"tickColor\": \"gray\", \"tickCount\": 4, \"title\": \"\"}, \"field\": \"datetime\", \"scale\": {\"domain\": [\"2017-08-27 00:05:00\", \"2017-08-27 01:14:59\"]}}, \"y\": {\"type\": \"quantitative\", \"axis\": {\"labelColor\": \"gray\", \"tickColor\": \"gray\", \"tickCount\": 3, \"title\": \"Four-minute rolling average\"}, \"field\": \"tweet_count\", \"scale\": {\"domain\": [0, 8]}}}, \"title\": \"Irish Pride VS The Money Team\"}, {\"data\": {\"url\": \"altair-data-c7caa9247776ffd0d1b0b573646ee975.json\", \"format\": {\"type\": \"json\"}}, \"mark\": {\"type\": \"line\", \"color\": \"#008FD5\"}, \"encoding\": {\"detail\": {\"type\": \"nominal\", \"field\": \"class\"}, \"x\": {\"type\": \"temporal\", \"field\": \"x\"}, \"y\": {\"type\": \"quantitative\", \"field\": \"y\"}}}], \"$schema\": \"https://vega.github.io/schema/vega-lite/v4.0.2.json\"}, {\"mode\": \"vega-lite\"});\n",
       "</script>"
      ],
      "text/plain": [
       "alt.LayerChart(...)"
      ]
     },
     "execution_count": 14,
     "metadata": {},
     "output_type": "execute_result"
    }
   ],
   "source": [
    "# your turn, create your solution \n",
    "\n",
    "ndf_chart = alt.Chart(ndf).mark_line(clip=True).encode(\n",
    "    alt.X('datetime',axis=alt.Axis(tickCount=4,title='',labelColor='gray',tickColor='gray'),\n",
    "          scale=alt.Scale(domain=('2017-08-27 00:05:00', '2017-08-27 01:14:59'))),\n",
    "    alt.Y('tweet_count',axis=alt.Axis(tickCount=3,title='Four-minute rolling average',\n",
    "                                      labelColor='gray',tickColor='gray'),scale=alt.Scale(domain=(0, 8))),\n",
    "    color=alt.Color('team',scale=alt.Scale(domain=['☘️🍀🇮🇪', '💸🤑💰💵'],\n",
    "            range=['green', 'gold']), legend=alt.Legend(orient=\"top\",title=\"\",labelFontSize=20))\n",
    ").properties(title=\"Irish Pride VS The Money Team\")\n",
    "\n",
    "ndf_text = alt.Chart(a_df).mark_text(align=\"left\", dy=-30, fontSize=10).encode(\n",
    "    x='date',\n",
    "    y='count',\n",
    "    text='note'\n",
    ")\n",
    "\n",
    "lines_df = pd.DataFrame({\n",
    "    'x': [a_df['date'][0], '2017-08-27 00:20:00', '2017-08-27 00:30:00', '2017-08-27 00:30:00'],\n",
    "    'y': [2.6, 3.6, 2.3, 4],\n",
    "    'class': ['A', 'A', 'B', 'B']\n",
    "})\n",
    "\n",
    "ndf_lines = alt.Chart(lines_df).mark_line(color='#008FD5').encode(\n",
    "    x='x',\n",
    "    y='y',\n",
    "    detail='class'\n",
    ")\n",
    "\n",
    "ndf_vis = ndf_text + ndf_chart + ndf_lines\n",
    "\n",
    "ndf_vis = ndf_vis.configure(background='#f0f0f0').configure_title(fontSize=20,anchor='start')\n",
    "\n",
    "ndf_vis"
   ]
  },
  {
   "cell_type": "markdown",
   "metadata": {},
   "source": [
    "To the surprise of many (of the neutral and pro-Mayweather viewers, anyway) McGregor won the first round. The next couple were washes, and a quarter of the way into the [scheduled 12 rounds](https://www.nytimes.com/2017/08/26/sports/mayweather-mcgregor.html) … the Irish underdog may have been winning! The Irish flags and shamrocks followed on Twitter. Things slowly (perhaps even 😴ly) turned around as one of the best pound-for-pound boxers in history took control of the man making his pro debut — an outcome which was predicted by precisely everyone. Out came the emoji money bags."
   ]
  },
  {
   "cell_type": "markdown",
   "metadata": {},
   "source": [
    "<img src=\"assets/tweet2.png\" alt=\"Drawing\" style=\"width: 500px;\"/>"
   ]
  },
  {
   "cell_type": "markdown",
   "metadata": {},
   "source": [
    "By the sixth round, it seemed like only a matter of time until the old pro dismantled the newcomer. By the ninth it was clear Mayweather was going for the knockout. It came soon thereafter. Mayweather unleashed a vicious flurry of punches in the 10th and the ref stepped in, declaring Mayweather the victor and saving McGregor, who was somehow still on his feet, from further damage."
   ]
  },
  {
   "cell_type": "markdown",
   "metadata": {},
   "source": [
    "<img src=\"assets/chart_3.png\" alt=\"Drawing\" style=\"width: 500px;\"/>"
   ]
  },
  {
   "cell_type": "markdown",
   "metadata": {},
   "source": [
    "** Homework note, construct your solution to this chart in the cell below. Click [here](assets/altair_chart3.png) to see a sample output from Altair."
   ]
  },
  {
   "cell_type": "code",
   "execution_count": 15,
   "metadata": {
    "deletable": false,
    "nbgrader": {
     "checksum": "987c9116e7c755a74aff6ccb96c78116",
     "grade": true,
     "grade_id": "cell-a7f1bff8d1b7905e",
     "locked": false,
     "points": 0,
     "schema_version": 1,
     "solution": true
    }
   },
   "outputs": [
    {
     "data": {
      "text/html": [
       "\n",
       "<div id=\"altair-viz-e52b78d4459d4d148a278a4b9ee8e08e\"></div>\n",
       "<script type=\"text/javascript\">\n",
       "  (function(spec, embedOpt){\n",
       "    const outputDiv = document.getElementById(\"altair-viz-e52b78d4459d4d148a278a4b9ee8e08e\");\n",
       "    const paths = {\n",
       "      \"vega\": \"https://cdn.jsdelivr.net/npm//vega@5?noext\",\n",
       "      \"vega-lib\": \"https://cdn.jsdelivr.net/npm//vega-lib?noext\",\n",
       "      \"vega-lite\": \"https://cdn.jsdelivr.net/npm//vega-lite@4.0.2?noext\",\n",
       "      \"vega-embed\": \"https://cdn.jsdelivr.net/npm//vega-embed@6?noext\",\n",
       "    };\n",
       "\n",
       "    function loadScript(lib) {\n",
       "      return new Promise(function(resolve, reject) {\n",
       "        var s = document.createElement('script');\n",
       "        s.src = paths[lib];\n",
       "        s.async = true;\n",
       "        s.onload = () => resolve(paths[lib]);\n",
       "        s.onerror = () => reject(`Error loading script: ${paths[lib]}`);\n",
       "        document.getElementsByTagName(\"head\")[0].appendChild(s);\n",
       "      });\n",
       "    }\n",
       "\n",
       "    function showError(err) {\n",
       "      outputDiv.innerHTML = `<div class=\"error\" style=\"color:red;\">${err}</div>`;\n",
       "      throw err;\n",
       "    }\n",
       "\n",
       "    function displayChart(vegaEmbed) {\n",
       "      vegaEmbed(outputDiv, spec, embedOpt)\n",
       "        .catch(err => showError(`Javascript Error: ${err.message}<br>This usually means there's a typo in your chart specification. See the javascript console for the full traceback.`));\n",
       "    }\n",
       "\n",
       "    if(typeof define === \"function\" && define.amd) {\n",
       "      requirejs.config({paths});\n",
       "      require([\"vega-embed\"], displayChart, err => showError(`Error loading script: ${err.message}`));\n",
       "    } else if (typeof vegaEmbed === \"function\") {\n",
       "      displayChart(vegaEmbed);\n",
       "    } else {\n",
       "      loadScript(\"vega\")\n",
       "        .then(() => loadScript(\"vega-lite\"))\n",
       "        .then(() => loadScript(\"vega-embed\"))\n",
       "        .catch(showError)\n",
       "        .then(() => displayChart(vegaEmbed));\n",
       "    }\n",
       "  })({\"config\": {\"view\": {\"continuousWidth\": 400, \"continuousHeight\": 300}, \"background\": \"#f0f0f0\", \"title\": {\"anchor\": \"start\", \"fontSize\": 20}}, \"layer\": [{\"data\": {\"url\": \"altair-data-9662f741ea793f4b3e4b8483e682386b.json\", \"format\": {\"type\": \"json\"}}, \"mark\": {\"type\": \"text\", \"align\": \"left\", \"fontSize\": 10}, \"encoding\": {\"text\": {\"type\": \"nominal\", \"field\": \"note\"}, \"x\": {\"type\": \"temporal\", \"field\": \"date\"}, \"y\": {\"type\": \"quantitative\", \"field\": \"count\"}}}, {\"data\": {\"url\": \"altair-data-c16911c527ea53995847709cbeaf4448.json\", \"format\": {\"type\": \"json\"}}, \"mark\": {\"type\": \"line\", \"clip\": true}, \"encoding\": {\"color\": {\"type\": \"nominal\", \"field\": \"sel_emoji\", \"legend\": {\"labelFontSize\": 20, \"orient\": \"top\", \"title\": \"\"}, \"scale\": {\"domain\": [\"\\ud83d\\udd25\", \"\\ud83d\\ude34\"], \"range\": [\"#FF2700\", \"cyan\"]}}, \"x\": {\"type\": \"temporal\", \"axis\": {\"labelColor\": \"gray\", \"tickColor\": \"gray\", \"tickCount\": 7, \"title\": \"\"}, \"field\": \"datetime\", \"scale\": {\"domain\": [\"2017-08-27 00:05:00\", \"2017-08-27 01:14:59\"]}}, \"y\": {\"type\": \"quantitative\", \"axis\": {\"labelColor\": \"gray\", \"tickColor\": \"gray\", \"tickCount\": 3, \"title\": \"Four-minute rolling average\"}, \"field\": \"tweet_count\", \"scale\": {\"domain\": [0, 2]}}}, \"title\": \"Much hype, some boredom\"}, {\"data\": {\"url\": \"altair-data-bd995fc2552fc76ae0883390c5dc20e4.json\", \"format\": {\"type\": \"json\"}}, \"mark\": {\"type\": \"line\", \"color\": \"#008FD5\"}, \"encoding\": {\"detail\": {\"type\": \"nominal\", \"field\": \"class2\"}, \"x\": {\"type\": \"temporal\", \"field\": \"x2\"}, \"y\": {\"type\": \"quantitative\", \"field\": \"y2\"}}}], \"$schema\": \"https://vega.github.io/schema/vega-lite/v4.0.2.json\"}, {\"mode\": \"vega-lite\"});\n",
       "</script>"
      ],
      "text/plain": [
       "alt.LayerChart(...)"
      ]
     },
     "execution_count": 15,
     "metadata": {},
     "output_type": "execute_result"
    }
   ],
   "source": [
    "# your solution goes here, use the example above for the sampling and annotation\n",
    "\n",
    "fdf = (tweets['🔥'].rolling('4Min').mean().groupby(pd.Grouper(freq='15S')).mean() * 15).reset_index()\n",
    "fdf['sel_emoji'] = '🔥'\n",
    "fdf = fdf.rename(columns={'🔥':'tweet_count'})\n",
    "\n",
    "sdf = (tweets['😴'].rolling('4Min').mean().groupby(pd.Grouper(freq='15S')).mean() * 15).reset_index()\n",
    "sdf['sel_emoji'] = '😴'\n",
    "sdf = sdf.rename(columns={'😴':'tweet_count'})\n",
    "\n",
    "odf = pd.concat([fdf,sdf])\n",
    "\n",
    "annotations2 = [['2017-08-27 00:10:00',0.75, 'Fight Begins'],\n",
    "               ['2017-08-27 00:25:00',1.5, 'Mayweather takes control in middle rounds']]\n",
    "b_df = pd.DataFrame(annotations2, columns=['date','count','note'])\n",
    "b_df['date'] = pd.to_datetime(b_df['date'])\n",
    "b_df\n",
    "\n",
    "odf_chart = alt.Chart(odf).mark_line(clip=True).encode(\n",
    "    alt.X('datetime',axis=alt.Axis(tickCount=7,title='',labelColor='gray',tickColor='gray'),\n",
    "          scale=alt.Scale(domain=('2017-08-27 00:05:00', '2017-08-27 01:14:59'))),\n",
    "    alt.Y('tweet_count',axis=alt.Axis(tickCount=3,title='Four-minute rolling average',\n",
    "                                      labelColor='gray',tickColor='gray'),scale=alt.Scale(domain=(0, 2))),\n",
    "    color=alt.Color('sel_emoji',scale=alt.Scale(domain=['🔥', '😴'],\n",
    "            range=['#FF2700', 'cyan']), legend=alt.Legend(orient=\"top\",title=\"\",labelFontSize=20))\n",
    ").properties(title=\"Much hype, some boredom\")\n",
    "\n",
    "odf_text = alt.Chart(b_df).mark_text(align=\"left\", fontSize=10).encode(\n",
    "    x='date',\n",
    "    y='count',\n",
    "    text='note'\n",
    ")\n",
    "\n",
    "lines2_df = pd.DataFrame({\n",
    "    'x2': ['2017-08-27 00:15:00', '2017-08-27 00:15:00', '2017-08-27 00:31:00', '2017-08-27 00:31:00',\n",
    "          '2017-08-27 00:45:00', '2017-08-27 00:45:00'],\n",
    "    'y2': [0.3, 0.7, 0.7, 1.46, .825, 1.46],\n",
    "    'class2': ['A2', 'A2', 'B2', 'B2', 'C2', 'C2']\n",
    "})\n",
    "lines2_df['x2'] = pd.to_datetime(lines2_df['x2'])\n",
    "\n",
    "odf_lines = alt.Chart(lines2_df).mark_line(color='#008FD5').encode(\n",
    "    x='x2',\n",
    "    y='y2',\n",
    "    detail='class2'\n",
    ")\n",
    "\n",
    "odf_vis = odf_text + odf_chart + odf_lines\n",
    "\n",
    "odf_vis = odf_vis.configure(background='#f0f0f0').configure_title(fontSize=20,anchor='start')\n",
    "\n",
    "odf_vis"
   ]
  },
  {
   "cell_type": "markdown",
   "metadata": {},
   "source": [
    "It ended just over 37 minutes after it began. Five seconds later, Mayweather leapt up on the corner ropes, victorious — [50-0](https://fivethirtyeight.com/features/mayweather-is-defined-by-the-zero-next-to-his-name/). Some observers declared it a [satisfying spectacle](https://www.si.com/boxing/2017/08/27/after-months-hype-mayweather-and-mcgregor-deliver-boxing-spectacle). Others, McGregor chief among them, [were frustrated with the finish](https://www.cbssports.com/boxing/news/conor-mcgregor-frustrated-with-refs-fight-stoppage-let-the-man-put-me-down/). The emoji users on Twitter appeared to think the fight was, for the most part, 🔥 — especially as it heated up toward the end. While the result may never have been in question, this was a welcome outcome for many who viewed Mayweather’s last megafight against Manny Pacquiao as an epic 😴😴😴😴."
   ]
  },
  {
   "cell_type": "markdown",
   "metadata": {},
   "source": [
    "<img src=\"assets/tweet3.png\" alt=\"Drawing\" style=\"width: 500px;\"/>"
   ]
  },
  {
   "cell_type": "markdown",
   "metadata": {},
   "source": [
    "<img src=\"assets/chart_4.png\" alt=\"Drawing\" style=\"width: 500px;\"/>"
   ]
  },
  {
   "cell_type": "markdown",
   "metadata": {},
   "source": [
    "** Homework note, construct your solution to this chart in the cell below. Click [here](assets/altair_chart3.png) to see a sample output from Altair."
   ]
  },
  {
   "cell_type": "code",
   "execution_count": 16,
   "metadata": {
    "deletable": false,
    "nbgrader": {
     "checksum": "15cc8435beedc03a96af849bb6eeaac0",
     "grade": true,
     "grade_id": "cell-718ac9b3de0d57a4",
     "locked": false,
     "points": 0,
     "schema_version": 1,
     "solution": true
    }
   },
   "outputs": [
    {
     "data": {
      "text/html": [
       "\n",
       "<div id=\"altair-viz-d809a61ea3b6475b994755b9164aeba4\"></div>\n",
       "<script type=\"text/javascript\">\n",
       "  (function(spec, embedOpt){\n",
       "    const outputDiv = document.getElementById(\"altair-viz-d809a61ea3b6475b994755b9164aeba4\");\n",
       "    const paths = {\n",
       "      \"vega\": \"https://cdn.jsdelivr.net/npm//vega@5?noext\",\n",
       "      \"vega-lib\": \"https://cdn.jsdelivr.net/npm//vega-lib?noext\",\n",
       "      \"vega-lite\": \"https://cdn.jsdelivr.net/npm//vega-lite@4.0.2?noext\",\n",
       "      \"vega-embed\": \"https://cdn.jsdelivr.net/npm//vega-embed@6?noext\",\n",
       "    };\n",
       "\n",
       "    function loadScript(lib) {\n",
       "      return new Promise(function(resolve, reject) {\n",
       "        var s = document.createElement('script');\n",
       "        s.src = paths[lib];\n",
       "        s.async = true;\n",
       "        s.onload = () => resolve(paths[lib]);\n",
       "        s.onerror = () => reject(`Error loading script: ${paths[lib]}`);\n",
       "        document.getElementsByTagName(\"head\")[0].appendChild(s);\n",
       "      });\n",
       "    }\n",
       "\n",
       "    function showError(err) {\n",
       "      outputDiv.innerHTML = `<div class=\"error\" style=\"color:red;\">${err}</div>`;\n",
       "      throw err;\n",
       "    }\n",
       "\n",
       "    function displayChart(vegaEmbed) {\n",
       "      vegaEmbed(outputDiv, spec, embedOpt)\n",
       "        .catch(err => showError(`Javascript Error: ${err.message}<br>This usually means there's a typo in your chart specification. See the javascript console for the full traceback.`));\n",
       "    }\n",
       "\n",
       "    if(typeof define === \"function\" && define.amd) {\n",
       "      requirejs.config({paths});\n",
       "      require([\"vega-embed\"], displayChart, err => showError(`Error loading script: ${err.message}`));\n",
       "    } else if (typeof vegaEmbed === \"function\") {\n",
       "      displayChart(vegaEmbed);\n",
       "    } else {\n",
       "      loadScript(\"vega\")\n",
       "        .then(() => loadScript(\"vega-lite\"))\n",
       "        .then(() => loadScript(\"vega-embed\"))\n",
       "        .catch(showError)\n",
       "        .then(() => displayChart(vegaEmbed));\n",
       "    }\n",
       "  })({\"config\": {\"view\": {\"continuousWidth\": 400, \"continuousHeight\": 300}, \"background\": \"#f0f0f0\", \"title\": {\"anchor\": \"start\", \"fontSize\": 20}}, \"layer\": [{\"data\": {\"url\": \"altair-data-98531a79834b8f9c707e2398d9f5f1c8.json\", \"format\": {\"type\": \"json\"}}, \"mark\": {\"type\": \"text\", \"align\": \"left\", \"fontSize\": 10}, \"encoding\": {\"text\": {\"type\": \"nominal\", \"field\": \"note\"}, \"x\": {\"type\": \"temporal\", \"field\": \"date\"}, \"y\": {\"type\": \"quantitative\", \"field\": \"count\"}}}, {\"data\": {\"url\": \"altair-data-3fffa3a26029b16393faf2a3e220567e.json\", \"format\": {\"type\": \"json\"}}, \"mark\": {\"type\": \"line\", \"clip\": true}, \"encoding\": {\"color\": {\"type\": \"nominal\", \"field\": \"sel_emoji2\", \"legend\": {\"labelFontSize\": 20, \"orient\": \"top\", \"title\": \"\"}, \"scale\": {\"domain\": [\"\\ud83d\\ude2d\", \"\\ud83e\\udd23\"], \"range\": [\"cyan\", \"orange\"]}}, \"x\": {\"type\": \"temporal\", \"axis\": {\"labelColor\": \"gray\", \"tickColor\": \"gray\", \"tickCount\": 4, \"title\": \"\"}, \"field\": \"datetime\", \"scale\": {\"domain\": [\"2017-08-27 00:05:00\", \"2017-08-27 01:14:59\"]}}, \"y\": {\"type\": \"quantitative\", \"axis\": {\"labelColor\": \"gray\", \"tickColor\": \"gray\", \"tickCount\": 6, \"title\": \"Four-minute rolling average\"}, \"field\": \"tweet_count\", \"scale\": {\"domain\": [0, 1.4]}}}, \"title\": \"Tears were shed - of joy and sorrow\"}, {\"data\": {\"url\": \"altair-data-ff8f1f2227c94b2d88a4e27507fb2737.json\", \"format\": {\"type\": \"json\"}}, \"mark\": {\"type\": \"line\", \"color\": \"#008FD5\"}, \"encoding\": {\"detail\": {\"type\": \"nominal\", \"field\": \"class3\"}, \"x\": {\"type\": \"temporal\", \"field\": \"x3\"}, \"y\": {\"type\": \"quantitative\", \"field\": \"y3\"}}}], \"$schema\": \"https://vega.github.io/schema/vega-lite/v4.0.2.json\"}, {\"mode\": \"vega-lite\"});\n",
       "</script>"
      ],
      "text/plain": [
       "alt.LayerChart(...)"
      ]
     },
     "execution_count": 16,
     "metadata": {},
     "output_type": "execute_result"
    }
   ],
   "source": [
    "# your solution goes here, use the example above for the sampling and annotation\n",
    "\n",
    "cdf = (tweets['😭'].rolling('4Min').mean().groupby(pd.Grouper(freq='15S')).mean() * 15).reset_index()\n",
    "cdf['sel_emoji2'] = '😭'\n",
    "cdf = cdf.rename(columns={'😭':'tweet_count'})\n",
    "\n",
    "rofldf = (tweets['🤣'].rolling('4Min').mean().groupby(pd.Grouper(freq='15S')).mean() * 15).reset_index()\n",
    "rofldf['sel_emoji2'] = '🤣'\n",
    "rofldf = rofldf.rename(columns={'🤣':'tweet_count'})\n",
    "\n",
    "pdf = pd.concat([cdf,rofldf])\n",
    "\n",
    "pdf_chart = alt.Chart(pdf).mark_line(clip=True).encode(\n",
    "    alt.X('datetime',axis=alt.Axis(tickCount=4,title='',labelColor='gray',tickColor='gray'),\n",
    "          scale=alt.Scale(domain=('2017-08-27 00:05:00', '2017-08-27 01:14:59'))),\n",
    "    alt.Y('tweet_count',axis=alt.Axis(tickCount=6,title='Four-minute rolling average',\n",
    "                                      labelColor='gray',tickColor='gray'),scale=alt.Scale(domain=(0, 1.4))),\n",
    "    color=alt.Color('sel_emoji2',scale=alt.Scale(domain=['😭', '🤣'],\n",
    "            range=['cyan', 'orange']), legend=alt.Legend(orient=\"top\",title=\"\",labelFontSize=20))\n",
    ").properties(title=\"Tears were shed - of joy and sorrow\")\n",
    "\n",
    "annotations3 = [['2017-08-27 00:08:00',1, 'Fight Begins'],\n",
    "               ['2017-08-27 00:08:00',1.36, 'McGregor impresses early'],\n",
    "                ['2017-08-27 00:50:00',.3, 'Fight ends']]\n",
    "               \n",
    "c_df = pd.DataFrame(annotations3, columns=['date','count','note'])\n",
    "c_df['date'] = pd.to_datetime(c_df['date'])\n",
    "\n",
    "pdf_text = alt.Chart(c_df).mark_text(align=\"left\", fontSize=10).encode(\n",
    "    x='date',\n",
    "    y='count',\n",
    "    text='note'\n",
    ")\n",
    "\n",
    "lines3_df = pd.DataFrame({\n",
    "    'x3': ['2017-08-27 00:15:00', '2017-08-27 00:15:00', '2017-08-27 00:20:30', '2017-08-27 00:17:00',\n",
    "          '2017-08-27 00:55:00', '2017-08-27 00:55:00'],\n",
    "    'y3': [0.79, 0.94, 1.23, 1.33, .35, .6],\n",
    "    'class3': ['A3', 'A3', 'B3', 'B3', 'C3', 'C3']\n",
    "})\n",
    "lines3_df['x3'] = pd.to_datetime(lines3_df['x3'])\n",
    "\n",
    "pdf_lines = alt.Chart(lines3_df).mark_line(color='#008FD5').encode(\n",
    "    x='x3',\n",
    "    y='y3',\n",
    "    detail='class3'\n",
    ")\n",
    "\n",
    "pdf_vis = pdf_text + pdf_chart + pdf_lines\n",
    "\n",
    "pdf_vis = pdf_vis.configure(background='#f0f0f0').configure_title(fontSize=20,anchor='start')\n",
    "\n",
    "pdf_vis"
   ]
  },
  {
   "cell_type": "markdown",
   "metadata": {},
   "source": [
    "They laughed. They cried. And they laughed some more. And they cried some more."
   ]
  },
  {
   "cell_type": "markdown",
   "metadata": {},
   "source": [
    "# Make your own (part 1-alternative)\n",
    "Propose one *alternative* visualization for one of the article's visualizations. Add a short paragraph describing why your visualization is more *effective* based on principles of perception/cognition. (20 points/ 15 points plot + 5 justification)"
   ]
  },
  {
   "cell_type": "code",
   "execution_count": 17,
   "metadata": {
    "deletable": false,
    "nbgrader": {
     "checksum": "0b9cd943872bb4aa60e5d72eac7e1ed1",
     "grade": true,
     "grade_id": "cell-9b636219159fc577",
     "locked": false,
     "points": 0,
     "schema_version": 1,
     "solution": true
    }
   },
   "outputs": [
    {
     "data": {
      "text/html": [
       "\n",
       "<div id=\"altair-viz-8584fcec55594737ae7d0f8832ee487a\"></div>\n",
       "<script type=\"text/javascript\">\n",
       "  (function(spec, embedOpt){\n",
       "    const outputDiv = document.getElementById(\"altair-viz-8584fcec55594737ae7d0f8832ee487a\");\n",
       "    const paths = {\n",
       "      \"vega\": \"https://cdn.jsdelivr.net/npm//vega@5?noext\",\n",
       "      \"vega-lib\": \"https://cdn.jsdelivr.net/npm//vega-lib?noext\",\n",
       "      \"vega-lite\": \"https://cdn.jsdelivr.net/npm//vega-lite@4.0.2?noext\",\n",
       "      \"vega-embed\": \"https://cdn.jsdelivr.net/npm//vega-embed@6?noext\",\n",
       "    };\n",
       "\n",
       "    function loadScript(lib) {\n",
       "      return new Promise(function(resolve, reject) {\n",
       "        var s = document.createElement('script');\n",
       "        s.src = paths[lib];\n",
       "        s.async = true;\n",
       "        s.onload = () => resolve(paths[lib]);\n",
       "        s.onerror = () => reject(`Error loading script: ${paths[lib]}`);\n",
       "        document.getElementsByTagName(\"head\")[0].appendChild(s);\n",
       "      });\n",
       "    }\n",
       "\n",
       "    function showError(err) {\n",
       "      outputDiv.innerHTML = `<div class=\"error\" style=\"color:red;\">${err}</div>`;\n",
       "      throw err;\n",
       "    }\n",
       "\n",
       "    function displayChart(vegaEmbed) {\n",
       "      vegaEmbed(outputDiv, spec, embedOpt)\n",
       "        .catch(err => showError(`Javascript Error: ${err.message}<br>This usually means there's a typo in your chart specification. See the javascript console for the full traceback.`));\n",
       "    }\n",
       "\n",
       "    if(typeof define === \"function\" && define.amd) {\n",
       "      requirejs.config({paths});\n",
       "      require([\"vega-embed\"], displayChart, err => showError(`Error loading script: ${err.message}`));\n",
       "    } else if (typeof vegaEmbed === \"function\") {\n",
       "      displayChart(vegaEmbed);\n",
       "    } else {\n",
       "      loadScript(\"vega\")\n",
       "        .then(() => loadScript(\"vega-lite\"))\n",
       "        .then(() => loadScript(\"vega-embed\"))\n",
       "        .catch(showError)\n",
       "        .then(() => displayChart(vegaEmbed));\n",
       "    }\n",
       "  })({\"config\": {\"view\": {\"continuousWidth\": 400, \"continuousHeight\": 300}, \"background\": \"#f0f0f0\", \"title\": {\"anchor\": \"start\", \"fontSize\": 20}}, \"layer\": [{\"data\": {\"url\": \"altair-data-3fffa3a26029b16393faf2a3e220567e.json\", \"format\": {\"type\": \"json\"}}, \"mark\": {\"type\": \"bar\", \"clip\": true, \"opacity\": 0.3}, \"encoding\": {\"color\": {\"type\": \"nominal\", \"field\": \"sel_emoji2\", \"legend\": {\"labelFontSize\": 20, \"title\": \"\"}}, \"x\": {\"type\": \"quantitative\", \"axis\": {\"title\": \"Four-minute rolling average\"}, \"field\": \"tweet_count\", \"stack\": null}, \"y\": {\"type\": \"temporal\", \"axis\": {\"title\": \"\"}, \"field\": \"datetime\"}}, \"height\": 1500, \"title\": \"Tears were shed - of joy and sorrow\", \"width\": 500}, {\"data\": {\"url\": \"altair-data-f3a4a946db41b460ad9cbe38f0e8e8e5.json\", \"format\": {\"type\": \"json\"}}, \"mark\": {\"type\": \"text\", \"align\": \"left\", \"fontSize\": 10}, \"encoding\": {\"text\": {\"type\": \"nominal\", \"field\": \"note\"}, \"x\": {\"type\": \"quantitative\", \"field\": \"count\"}, \"y\": {\"type\": \"temporal\", \"field\": \"date\"}}}, {\"data\": {\"url\": \"altair-data-8fe2065dcdd835bfe0006bcb77b81bfe.json\", \"format\": {\"type\": \"json\"}}, \"mark\": {\"type\": \"line\", \"color\": \"black\", \"opacity\": 0.2}, \"encoding\": {\"detail\": {\"type\": \"nominal\", \"field\": \"class4\"}, \"x\": {\"type\": \"quantitative\", \"field\": \"y4\"}, \"y\": {\"type\": \"temporal\", \"field\": \"x4\"}}}], \"$schema\": \"https://vega.github.io/schema/vega-lite/v4.0.2.json\"}, {\"mode\": \"vega-lite\"});\n",
       "</script>"
      ],
      "text/plain": [
       "alt.LayerChart(...)"
      ]
     },
     "execution_count": 17,
     "metadata": {},
     "output_type": "execute_result"
    }
   ],
   "source": [
    "alternative_chart = alt.Chart(pdf).mark_bar(opacity=0.3, clip=True).encode(\n",
    "    alt.X('tweet_count',axis=alt.Axis(title='Four-minute rolling average'),stack=None),\n",
    "    alt.Y('datetime',axis=alt.Axis(title='')),\n",
    "    color=alt.Color('sel_emoji2',legend=alt.Legend(title=\"\",labelFontSize=20)),\n",
    ").properties(width=500, height=1500, title=\"Tears were shed - of joy and sorrow\")\n",
    "\n",
    "annotations_alt = [[1.65,'2017-08-27 00:15:00', 'Fight Begins'],\n",
    "               [1.65,'2017-08-27 00:19:15', 'McGregor impresses early'],\n",
    "                [1.65,'2017-08-27 00:51:00', 'Fight ends']]\n",
    "               \n",
    "alt_df = pd.DataFrame(annotations_alt, columns=['count','date','note'])\n",
    "alt_df['date'] = pd.to_datetime(alt_df['date'])\n",
    "\n",
    "alt_text = alt.Chart(alt_df).mark_text(align=\"left\", fontSize=10).encode(\n",
    "    x='count',\n",
    "    y='date',\n",
    "    text='note'\n",
    ")\n",
    "\n",
    "lines4_df = pd.DataFrame({\n",
    "    'x4': ['2017-08-27 00:15:00', '2017-08-27 00:15:00', '2017-08-27 00:19:15', '2017-08-27 00:19:15',\n",
    "          '2017-08-27 00:51:00', '2017-08-27 00:51:00'],\n",
    "    'y4': [0, 1.6, 0, 1.6, 0, 1.6],\n",
    "    'class4': ['A3', 'A3', 'B3', 'B3', 'C3', 'C3']\n",
    "})\n",
    "lines4_df['x4'] = pd.to_datetime(lines4_df['x4'])\n",
    "\n",
    "alt_lines = alt.Chart(lines4_df).mark_line(color='black',opacity=0.2).encode(\n",
    "    x='y4',\n",
    "    y='x4',\n",
    "    detail='class4'\n",
    ")\n",
    "\n",
    "alt_vis = alternative_chart + alt_text + alt_lines\n",
    "\n",
    "alt_vis = alt_vis.configure(background='#f0f0f0').configure_title(fontSize=20,anchor='start')\n",
    "\n",
    "alt_vis"
   ]
  },
  {
   "cell_type": "markdown",
   "metadata": {},
   "source": [
    "While a line chart is a valid option for comparing categories over time, our data only included two categories, which allows for the opportunity of chosing a column chart instead. In doing so, the task of comparisons between the two categories becomes more effective: not only can the length of the bar from one category be compared to the length of the other category for each time period, it is also possible to better approximate \"how much more\" in a more disciminant manner. Further, we can be more exact about labeling the specific times events occur, such as when the fight begins, and it becomes clearer for both categories the behavior of the data around those events."
   ]
  },
  {
   "cell_type": "markdown",
   "metadata": {},
   "source": [
    "# Make your own (part 2-novel)\n",
    "Propose a *new* visualization to complement a part of the article. Add a short paragraph justifying your decisions in terms of Perception/Cognition processes.  (20 points/ 15 points plot + 5 justification)"
   ]
  },
  {
   "cell_type": "code",
   "execution_count": 18,
   "metadata": {
    "deletable": false,
    "nbgrader": {
     "checksum": "8448ae695c68f98d279e3e9fba50f028",
     "grade": true,
     "grade_id": "cell-f05fa16510d6f918",
     "locked": false,
     "points": 0,
     "schema_version": 1,
     "solution": true
    }
   },
   "outputs": [
    {
     "data": {
      "text/html": [
       "\n",
       "<div id=\"altair-viz-b0db2fe54a934a5793db6c483bccaa66\"></div>\n",
       "<script type=\"text/javascript\">\n",
       "  (function(spec, embedOpt){\n",
       "    const outputDiv = document.getElementById(\"altair-viz-b0db2fe54a934a5793db6c483bccaa66\");\n",
       "    const paths = {\n",
       "      \"vega\": \"https://cdn.jsdelivr.net/npm//vega@5?noext\",\n",
       "      \"vega-lib\": \"https://cdn.jsdelivr.net/npm//vega-lib?noext\",\n",
       "      \"vega-lite\": \"https://cdn.jsdelivr.net/npm//vega-lite@4.0.2?noext\",\n",
       "      \"vega-embed\": \"https://cdn.jsdelivr.net/npm//vega-embed@6?noext\",\n",
       "    };\n",
       "\n",
       "    function loadScript(lib) {\n",
       "      return new Promise(function(resolve, reject) {\n",
       "        var s = document.createElement('script');\n",
       "        s.src = paths[lib];\n",
       "        s.async = true;\n",
       "        s.onload = () => resolve(paths[lib]);\n",
       "        s.onerror = () => reject(`Error loading script: ${paths[lib]}`);\n",
       "        document.getElementsByTagName(\"head\")[0].appendChild(s);\n",
       "      });\n",
       "    }\n",
       "\n",
       "    function showError(err) {\n",
       "      outputDiv.innerHTML = `<div class=\"error\" style=\"color:red;\">${err}</div>`;\n",
       "      throw err;\n",
       "    }\n",
       "\n",
       "    function displayChart(vegaEmbed) {\n",
       "      vegaEmbed(outputDiv, spec, embedOpt)\n",
       "        .catch(err => showError(`Javascript Error: ${err.message}<br>This usually means there's a typo in your chart specification. See the javascript console for the full traceback.`));\n",
       "    }\n",
       "\n",
       "    if(typeof define === \"function\" && define.amd) {\n",
       "      requirejs.config({paths});\n",
       "      require([\"vega-embed\"], displayChart, err => showError(`Error loading script: ${err.message}`));\n",
       "    } else if (typeof vegaEmbed === \"function\") {\n",
       "      displayChart(vegaEmbed);\n",
       "    } else {\n",
       "      loadScript(\"vega\")\n",
       "        .then(() => loadScript(\"vega-lite\"))\n",
       "        .then(() => loadScript(\"vega-embed\"))\n",
       "        .catch(showError)\n",
       "        .then(() => displayChart(vegaEmbed));\n",
       "    }\n",
       "  })({\"config\": {\"view\": {\"continuousWidth\": 400, \"continuousHeight\": 300, \"strokeWidth\": 0}, \"background\": \"#f0f0f0\", \"scale\": {\"bandPaddingInner\": 0.2}, \"title\": {\"anchor\": \"start\", \"fontSize\": 20}}, \"layer\": [{\"mark\": {\"type\": \"bar\", \"size\": 50}, \"encoding\": {\"color\": {\"type\": \"nominal\", \"field\": \"team\", \"legend\": null, \"scale\": {\"domain\": [\"McGregor [\\u2618\\ufe0f\\ud83c\\udf40\\ud83c\\uddee\\ud83c\\uddea]\", \"Mayweather [\\ud83d\\udcb8\\ud83e\\udd11\\ud83d\\udcb0\\ud83d\\udcb5]\"], \"range\": [\"green\", \"orange\"]}}, \"x\": {\"type\": \"quantitative\", \"axis\": {\"format\": \".0%\"}, \"field\": \"Percentage\"}, \"y\": {\"type\": \"nominal\", \"axis\": {\"labelFontSize\": 15, \"title\": \"\"}, \"field\": \"team\"}}, \"height\": 180, \"title\": \"Percentage of total emojis tweeted: Irish Pride VS The Money Team\", \"width\": 500}, {\"mark\": {\"type\": \"text\", \"align\": \"left\", \"baseline\": \"middle\", \"color\": \"black\", \"dx\": 3}, \"encoding\": {\"color\": {\"type\": \"nominal\", \"field\": \"team\", \"legend\": null, \"scale\": {\"domain\": [\"McGregor [\\u2618\\ufe0f\\ud83c\\udf40\\ud83c\\uddee\\ud83c\\uddea]\", \"Mayweather [\\ud83d\\udcb8\\ud83e\\udd11\\ud83d\\udcb0\\ud83d\\udcb5]\"], \"range\": [\"green\", \"orange\"]}}, \"text\": {\"type\": \"quantitative\", \"field\": \"Percentage\", \"format\": \".0%\"}, \"x\": {\"type\": \"quantitative\", \"axis\": {\"format\": \".0%\"}, \"field\": \"Percentage\"}, \"y\": {\"type\": \"nominal\", \"axis\": {\"labelFontSize\": 15, \"title\": \"\"}, \"field\": \"team\"}}, \"height\": 180, \"title\": \"Percentage of total emojis tweeted: Irish Pride VS The Money Team\", \"width\": 500}], \"data\": {\"url\": \"altair-data-683c320f67e04f6dd57775c6630aa0bb.json\", \"format\": {\"type\": \"json\"}}, \"$schema\": \"https://vega.github.io/schema/vega-lite/v4.0.2.json\"}, {\"mode\": \"vega-lite\"});\n",
       "</script>"
      ],
      "text/plain": [
       "alt.LayerChart(...)"
      ]
     },
     "execution_count": 18,
     "metadata": {},
     "output_type": "execute_result"
    }
   ],
   "source": [
    "irish_tweets = tweets['irish_pride'].sum()\n",
    "money_tweets = tweets['money_team'].sum()\n",
    "total_tweets = irish_tweets + money_tweets\n",
    "\n",
    "\n",
    "team_tuples = [('Mayweather [💸🤑💰💵]', money_tweets/total_tweets),\n",
    " ('McGregor [☘️🍀🇮🇪]', irish_tweets/total_tweets)]\n",
    "\n",
    "team_df = pd.DataFrame(team_tuples, columns = ['team', 'Percentage'])\n",
    "\n",
    "team_bars = alt.Chart(team_df).mark_bar(size=50).encode(\n",
    "    x=alt.X(\n",
    "        'Percentage',axis=alt.Axis(format='.0%')),\n",
    "    y=alt.Y(\n",
    "        'team',\n",
    "         axis=alt.Axis(title='',labelFontSize=15)\n",
    "    ),\n",
    "    color=alt.Color('team',legend=None,scale=alt.Scale(domain=['McGregor [☘️🍀🇮🇪]', 'Mayweather [💸🤑💰💵]'],range=['green', 'orange']))\n",
    ").properties(\n",
    "    width=500,\n",
    "    height=180\n",
    ").properties(\n",
    "    title=\"Percentage of total emojis tweeted: Irish Pride VS The Money Team\"\n",
    ")\n",
    "\n",
    "team_text = team_bars.mark_text(\n",
    "    align='left',\n",
    "    color='black',\n",
    "    baseline='middle',\n",
    "    dx=3  # Nudges text to right so it doesn't appear on top of the bar\n",
    ").encode(\n",
    "    # we'll use the percentage as the text\n",
    "    text=alt.Text('Percentage:Q',format='.0%')\n",
    ")\n",
    "\n",
    "team_vis = team_bars + team_text\n",
    "\n",
    "team_vis = team_vis.configure(background='#f0f0f0').configure_title(fontSize=20,anchor='start').configure_view(\n",
    "    strokeWidth=0\n",
    ").configure_scale(\n",
    "    bandPaddingInner=0.2\n",
    ")\n",
    "\n",
    "team_vis"
   ]
  },
  {
   "cell_type": "markdown",
   "metadata": {},
   "source": [
    "The article mentions that \"the majority of people in the arena appeared to be McGregor fans,\" but a slight majority of tweets during the match are from \"The Money Team.\" Consistent with the first visualization about the populatity of individual emojis and the immediately prior \"alternative\" visualization, the design here shows similar variability within the data and there is no need to introduce further variability into the design of the visualization. The only design change here was changing the axis lables to make them more detailed so that the difference between Mayweather and McGregor becomes more clear. These are two specific Tufte principles that lead to this being an effective visualization with good graphical integrity. This visualization also balances the quote from the article, and gives some context to the online conversation, which is the main subject of most of the visualizations in the article."
   ]
  }
 ],
 "metadata": {
  "coursera": {
   "schema_names": [
    "mads_information_visualization_i_v2_assignment4"
   ]
  },
  "kernelspec": {
   "display_name": "Python 3",
   "language": "python",
   "name": "python3"
  },
  "language_info": {
   "codemirror_mode": {
    "name": "ipython",
    "version": 3
   },
   "file_extension": ".py",
   "mimetype": "text/x-python",
   "name": "python",
   "nbconvert_exporter": "python",
   "pygments_lexer": "ipython3",
   "version": "3.7.3"
  },
  "toc": {
   "colors": {
    "hover_highlight": "#DAA520",
    "running_highlight": "#FF0000",
    "selected_highlight": "#FFD700"
   },
   "moveMenuLeft": true,
   "nav_menu": {
    "height": "300px",
    "width": "252px"
   },
   "navigate_menu": true,
   "number_sections": false,
   "sideBar": false,
   "threshold": 4,
   "toc_cell": false,
   "toc_position": {
    "height": "259px",
    "left": "1px",
    "right": "20px",
    "top": "110px",
    "width": "212px"
   },
   "toc_section_display": "none",
   "toc_window_display": true,
   "widenNotebook": false
  }
 },
 "nbformat": 4,
 "nbformat_minor": 2
}
